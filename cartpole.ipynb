{
  "cells": [
    {
      "cell_type": "markdown",
      "metadata": {
        "id": "view-in-github",
        "colab_type": "text"
      },
      "source": [
        "<a href=\"https://colab.research.google.com/github/coder-Yingchao/librealsense/blob/master/cartpole.ipynb\" target=\"_parent\"><img src=\"https://colab.research.google.com/assets/colab-badge.svg\" alt=\"Open In Colab\"/></a>"
      ]
    },
    {
      "cell_type": "markdown",
      "metadata": {
        "id": "WSppQ6Auq3W2"
      },
      "source": [
        "Setup rendering dependencies for Google Colaboratory."
      ]
    },
    {
      "cell_type": "code",
      "execution_count": null,
      "metadata": {
        "id": "5MqJZTEaq3W5"
      },
      "outputs": [],
      "source": [
        "!apt-get install -y xvfb ffmpeg > /dev/null 2>&1\n",
        "!pip install pyvirtualdisplay pygame moviepy > /dev/null 2>&1"
      ]
    },
    {
      "cell_type": "markdown",
      "metadata": {
        "id": "rLvWn1ckq3W6"
      },
      "source": [
        "Install d3rlpy!"
      ]
    },
    {
      "cell_type": "code",
      "execution_count": null,
      "metadata": {
        "colab": {
          "base_uri": "https://localhost:8080/"
        },
        "collapsed": true,
        "id": "s80fh-0Oq3W6",
        "outputId": "f51c83a0-c52f-47ab-834d-a677e2d2c11c"
      },
      "outputs": [
        {
          "output_type": "stream",
          "name": "stdout",
          "text": [
            "Collecting d3rlpy\n",
            "  Downloading d3rlpy-2.7.0-py3-none-any.whl.metadata (11 kB)\n",
            "Requirement already satisfied: torch>=2.5.0 in /usr/local/lib/python3.10/dist-packages (from d3rlpy) (2.5.1+cu121)\n",
            "Requirement already satisfied: tqdm>=4.66.3 in /usr/local/lib/python3.10/dist-packages (from d3rlpy) (4.67.1)\n",
            "Requirement already satisfied: h5py in /usr/local/lib/python3.10/dist-packages (from d3rlpy) (3.12.1)\n",
            "Collecting gym>=0.26.0 (from d3rlpy)\n",
            "  Downloading gym-0.26.2.tar.gz (721 kB)\n",
            "\u001b[?25l     \u001b[90m━━━━━━━━━━━━━━━━━━━━━━━━━━━━━━━━━━━━━━━━\u001b[0m \u001b[32m0.0/721.7 kB\u001b[0m \u001b[31m?\u001b[0m eta \u001b[36m-:--:--\u001b[0m\r\u001b[2K     \u001b[91m━━━━━━━━━━━━━━━━━━━━━━━━━━━━━━━━━━━━━━━\u001b[0m\u001b[91m╸\u001b[0m \u001b[32m716.8/721.7 kB\u001b[0m \u001b[31m23.0 MB/s\u001b[0m eta \u001b[36m0:00:01\u001b[0m\r\u001b[2K     \u001b[90m━━━━━━━━━━━━━━━━━━━━━━━━━━━━━━━━━━━━━━━━\u001b[0m \u001b[32m721.7/721.7 kB\u001b[0m \u001b[31m16.7 MB/s\u001b[0m eta \u001b[36m0:00:00\u001b[0m\n",
            "\u001b[?25h  Installing build dependencies ... \u001b[?25l\u001b[?25hdone\n",
            "  Getting requirements to build wheel ... \u001b[?25l\u001b[?25hdone\n",
            "  Preparing metadata (pyproject.toml) ... \u001b[?25l\u001b[?25hdone\n",
            "Requirement already satisfied: click in /usr/local/lib/python3.10/dist-packages (from d3rlpy) (8.1.7)\n",
            "Requirement already satisfied: typing-extensions in /usr/local/lib/python3.10/dist-packages (from d3rlpy) (4.12.2)\n",
            "Collecting structlog (from d3rlpy)\n",
            "  Downloading structlog-24.4.0-py3-none-any.whl.metadata (7.3 kB)\n",
            "Collecting colorama (from d3rlpy)\n",
            "  Downloading colorama-0.4.6-py2.py3-none-any.whl.metadata (17 kB)\n",
            "Collecting dataclasses-json (from d3rlpy)\n",
            "  Downloading dataclasses_json-0.6.7-py3-none-any.whl.metadata (25 kB)\n",
            "Collecting gymnasium>=1.0.0 (from d3rlpy)\n",
            "  Downloading gymnasium-1.0.0-py3-none-any.whl.metadata (9.5 kB)\n",
            "Requirement already satisfied: numpy>=1.18.0 in /usr/local/lib/python3.10/dist-packages (from gym>=0.26.0->d3rlpy) (1.26.4)\n",
            "Requirement already satisfied: cloudpickle>=1.2.0 in /usr/local/lib/python3.10/dist-packages (from gym>=0.26.0->d3rlpy) (3.1.0)\n",
            "Requirement already satisfied: gym_notices>=0.0.4 in /usr/local/lib/python3.10/dist-packages (from gym>=0.26.0->d3rlpy) (0.0.8)\n",
            "Collecting farama-notifications>=0.0.1 (from gymnasium>=1.0.0->d3rlpy)\n",
            "  Downloading Farama_Notifications-0.0.4-py3-none-any.whl.metadata (558 bytes)\n",
            "Requirement already satisfied: filelock in /usr/local/lib/python3.10/dist-packages (from torch>=2.5.0->d3rlpy) (3.16.1)\n",
            "Requirement already satisfied: networkx in /usr/local/lib/python3.10/dist-packages (from torch>=2.5.0->d3rlpy) (3.4.2)\n",
            "Requirement already satisfied: jinja2 in /usr/local/lib/python3.10/dist-packages (from torch>=2.5.0->d3rlpy) (3.1.4)\n",
            "Requirement already satisfied: fsspec in /usr/local/lib/python3.10/dist-packages (from torch>=2.5.0->d3rlpy) (2024.10.0)\n",
            "Requirement already satisfied: sympy==1.13.1 in /usr/local/lib/python3.10/dist-packages (from torch>=2.5.0->d3rlpy) (1.13.1)\n",
            "Requirement already satisfied: mpmath<1.4,>=1.1.0 in /usr/local/lib/python3.10/dist-packages (from sympy==1.13.1->torch>=2.5.0->d3rlpy) (1.3.0)\n",
            "Collecting marshmallow<4.0.0,>=3.18.0 (from dataclasses-json->d3rlpy)\n",
            "  Downloading marshmallow-3.23.3-py3-none-any.whl.metadata (7.1 kB)\n",
            "Collecting typing-inspect<1,>=0.4.0 (from dataclasses-json->d3rlpy)\n",
            "  Downloading typing_inspect-0.9.0-py3-none-any.whl.metadata (1.5 kB)\n",
            "Requirement already satisfied: packaging>=17.0 in /usr/local/lib/python3.10/dist-packages (from marshmallow<4.0.0,>=3.18.0->dataclasses-json->d3rlpy) (24.2)\n",
            "Collecting mypy-extensions>=0.3.0 (from typing-inspect<1,>=0.4.0->dataclasses-json->d3rlpy)\n",
            "  Downloading mypy_extensions-1.0.0-py3-none-any.whl.metadata (1.1 kB)\n",
            "Requirement already satisfied: MarkupSafe>=2.0 in /usr/local/lib/python3.10/dist-packages (from jinja2->torch>=2.5.0->d3rlpy) (3.0.2)\n",
            "Downloading d3rlpy-2.7.0-py3-none-any.whl (192 kB)\n",
            "\u001b[2K   \u001b[90m━━━━━━━━━━━━━━━━━━━━━━━━━━━━━━━━━━━━━━━━\u001b[0m \u001b[32m192.6/192.6 kB\u001b[0m \u001b[31m18.0 MB/s\u001b[0m eta \u001b[36m0:00:00\u001b[0m\n",
            "\u001b[?25hDownloading gymnasium-1.0.0-py3-none-any.whl (958 kB)\n",
            "\u001b[2K   \u001b[90m━━━━━━━━━━━━━━━━━━━━━━━━━━━━━━━━━━━━━━━━\u001b[0m \u001b[32m958.1/958.1 kB\u001b[0m \u001b[31m45.2 MB/s\u001b[0m eta \u001b[36m0:00:00\u001b[0m\n",
            "\u001b[?25hDownloading colorama-0.4.6-py2.py3-none-any.whl (25 kB)\n",
            "Downloading dataclasses_json-0.6.7-py3-none-any.whl (28 kB)\n",
            "Downloading structlog-24.4.0-py3-none-any.whl (67 kB)\n",
            "\u001b[2K   \u001b[90m━━━━━━━━━━━━━━━━━━━━━━━━━━━━━━━━━━━━━━━━\u001b[0m \u001b[32m67.2/67.2 kB\u001b[0m \u001b[31m7.8 MB/s\u001b[0m eta \u001b[36m0:00:00\u001b[0m\n",
            "\u001b[?25hDownloading Farama_Notifications-0.0.4-py3-none-any.whl (2.5 kB)\n",
            "Downloading marshmallow-3.23.3-py3-none-any.whl (48 kB)\n",
            "\u001b[2K   \u001b[90m━━━━━━━━━━━━━━━━━━━━━━━━━━━━━━━━━━━━━━━━\u001b[0m \u001b[32m48.9/48.9 kB\u001b[0m \u001b[31m5.4 MB/s\u001b[0m eta \u001b[36m0:00:00\u001b[0m\n",
            "\u001b[?25hDownloading typing_inspect-0.9.0-py3-none-any.whl (8.8 kB)\n",
            "Downloading mypy_extensions-1.0.0-py3-none-any.whl (4.7 kB)\n",
            "Building wheels for collected packages: gym\n",
            "  Building wheel for gym (pyproject.toml) ... \u001b[?25l\u001b[?25hdone\n",
            "  Created wheel for gym: filename=gym-0.26.2-py3-none-any.whl size=827626 sha256=3d0ef9bdb5555330e5cf5a93c5f1680afdf9131d8278098f3ac5e68db6c22dfb\n",
            "  Stored in directory: /root/.cache/pip/wheels/b9/22/6d/3e7b32d98451b4cd9d12417052affbeeeea012955d437da1da\n",
            "Successfully built gym\n",
            "Installing collected packages: farama-notifications, structlog, mypy-extensions, marshmallow, gymnasium, gym, colorama, typing-inspect, dataclasses-json, d3rlpy\n",
            "  Attempting uninstall: gym\n",
            "    Found existing installation: gym 0.25.2\n",
            "    Uninstalling gym-0.25.2:\n",
            "      Successfully uninstalled gym-0.25.2\n",
            "\u001b[31mERROR: pip's dependency resolver does not currently take into account all the packages that are installed. This behaviour is the source of the following dependency conflicts.\n",
            "dopamine-rl 4.1.0 requires gym<=0.25.2, but you have gym 0.26.2 which is incompatible.\u001b[0m\u001b[31m\n",
            "\u001b[0mSuccessfully installed colorama-0.4.6 d3rlpy-2.7.0 dataclasses-json-0.6.7 farama-notifications-0.0.4 gym-0.26.2 gymnasium-1.0.0 marshmallow-3.23.3 mypy-extensions-1.0.0 structlog-24.4.0 typing-inspect-0.9.0\n"
          ]
        }
      ],
      "source": [
        "!pip install d3rlpy"
      ]
    },
    {
      "cell_type": "markdown",
      "metadata": {
        "id": "Dt0fIaZ1q3W7"
      },
      "source": [
        "Setup cartpole dataset."
      ]
    },
    {
      "cell_type": "markdown",
      "source": [],
      "metadata": {
        "id": "k6CI_GAtrLn8"
      }
    },
    {
      "cell_type": "code",
      "source": [
        "from google.colab import files\n",
        "uploaded = files.upload()  # 会在左下角弹窗选择文件上传"
      ],
      "metadata": {
        "colab": {
          "base_uri": "https://localhost:8080/",
          "height": 91
        },
        "id": "ataYXIVzrMtI",
        "outputId": "c6181801-3d01-4866-bd1e-802b8fbf0570"
      },
      "execution_count": null,
      "outputs": [
        {
          "output_type": "display_data",
          "data": {
            "text/plain": [
              "<IPython.core.display.HTML object>"
            ],
            "text/html": [
              "\n",
              "     <input type=\"file\" id=\"files-adfe830e-b66a-4c95-84ba-c135b26856a8\" name=\"files[]\" multiple disabled\n",
              "        style=\"border:none\" />\n",
              "     <output id=\"result-adfe830e-b66a-4c95-84ba-c135b26856a8\">\n",
              "      Upload widget is only available when the cell has been executed in the\n",
              "      current browser session. Please rerun this cell to enable.\n",
              "      </output>\n",
              "      <script>// Copyright 2017 Google LLC\n",
              "//\n",
              "// Licensed under the Apache License, Version 2.0 (the \"License\");\n",
              "// you may not use this file except in compliance with the License.\n",
              "// You may obtain a copy of the License at\n",
              "//\n",
              "//      http://www.apache.org/licenses/LICENSE-2.0\n",
              "//\n",
              "// Unless required by applicable law or agreed to in writing, software\n",
              "// distributed under the License is distributed on an \"AS IS\" BASIS,\n",
              "// WITHOUT WARRANTIES OR CONDITIONS OF ANY KIND, either express or implied.\n",
              "// See the License for the specific language governing permissions and\n",
              "// limitations under the License.\n",
              "\n",
              "/**\n",
              " * @fileoverview Helpers for google.colab Python module.\n",
              " */\n",
              "(function(scope) {\n",
              "function span(text, styleAttributes = {}) {\n",
              "  const element = document.createElement('span');\n",
              "  element.textContent = text;\n",
              "  for (const key of Object.keys(styleAttributes)) {\n",
              "    element.style[key] = styleAttributes[key];\n",
              "  }\n",
              "  return element;\n",
              "}\n",
              "\n",
              "// Max number of bytes which will be uploaded at a time.\n",
              "const MAX_PAYLOAD_SIZE = 100 * 1024;\n",
              "\n",
              "function _uploadFiles(inputId, outputId) {\n",
              "  const steps = uploadFilesStep(inputId, outputId);\n",
              "  const outputElement = document.getElementById(outputId);\n",
              "  // Cache steps on the outputElement to make it available for the next call\n",
              "  // to uploadFilesContinue from Python.\n",
              "  outputElement.steps = steps;\n",
              "\n",
              "  return _uploadFilesContinue(outputId);\n",
              "}\n",
              "\n",
              "// This is roughly an async generator (not supported in the browser yet),\n",
              "// where there are multiple asynchronous steps and the Python side is going\n",
              "// to poll for completion of each step.\n",
              "// This uses a Promise to block the python side on completion of each step,\n",
              "// then passes the result of the previous step as the input to the next step.\n",
              "function _uploadFilesContinue(outputId) {\n",
              "  const outputElement = document.getElementById(outputId);\n",
              "  const steps = outputElement.steps;\n",
              "\n",
              "  const next = steps.next(outputElement.lastPromiseValue);\n",
              "  return Promise.resolve(next.value.promise).then((value) => {\n",
              "    // Cache the last promise value to make it available to the next\n",
              "    // step of the generator.\n",
              "    outputElement.lastPromiseValue = value;\n",
              "    return next.value.response;\n",
              "  });\n",
              "}\n",
              "\n",
              "/**\n",
              " * Generator function which is called between each async step of the upload\n",
              " * process.\n",
              " * @param {string} inputId Element ID of the input file picker element.\n",
              " * @param {string} outputId Element ID of the output display.\n",
              " * @return {!Iterable<!Object>} Iterable of next steps.\n",
              " */\n",
              "function* uploadFilesStep(inputId, outputId) {\n",
              "  const inputElement = document.getElementById(inputId);\n",
              "  inputElement.disabled = false;\n",
              "\n",
              "  const outputElement = document.getElementById(outputId);\n",
              "  outputElement.innerHTML = '';\n",
              "\n",
              "  const pickedPromise = new Promise((resolve) => {\n",
              "    inputElement.addEventListener('change', (e) => {\n",
              "      resolve(e.target.files);\n",
              "    });\n",
              "  });\n",
              "\n",
              "  const cancel = document.createElement('button');\n",
              "  inputElement.parentElement.appendChild(cancel);\n",
              "  cancel.textContent = 'Cancel upload';\n",
              "  const cancelPromise = new Promise((resolve) => {\n",
              "    cancel.onclick = () => {\n",
              "      resolve(null);\n",
              "    };\n",
              "  });\n",
              "\n",
              "  // Wait for the user to pick the files.\n",
              "  const files = yield {\n",
              "    promise: Promise.race([pickedPromise, cancelPromise]),\n",
              "    response: {\n",
              "      action: 'starting',\n",
              "    }\n",
              "  };\n",
              "\n",
              "  cancel.remove();\n",
              "\n",
              "  // Disable the input element since further picks are not allowed.\n",
              "  inputElement.disabled = true;\n",
              "\n",
              "  if (!files) {\n",
              "    return {\n",
              "      response: {\n",
              "        action: 'complete',\n",
              "      }\n",
              "    };\n",
              "  }\n",
              "\n",
              "  for (const file of files) {\n",
              "    const li = document.createElement('li');\n",
              "    li.append(span(file.name, {fontWeight: 'bold'}));\n",
              "    li.append(span(\n",
              "        `(${file.type || 'n/a'}) - ${file.size} bytes, ` +\n",
              "        `last modified: ${\n",
              "            file.lastModifiedDate ? file.lastModifiedDate.toLocaleDateString() :\n",
              "                                    'n/a'} - `));\n",
              "    const percent = span('0% done');\n",
              "    li.appendChild(percent);\n",
              "\n",
              "    outputElement.appendChild(li);\n",
              "\n",
              "    const fileDataPromise = new Promise((resolve) => {\n",
              "      const reader = new FileReader();\n",
              "      reader.onload = (e) => {\n",
              "        resolve(e.target.result);\n",
              "      };\n",
              "      reader.readAsArrayBuffer(file);\n",
              "    });\n",
              "    // Wait for the data to be ready.\n",
              "    let fileData = yield {\n",
              "      promise: fileDataPromise,\n",
              "      response: {\n",
              "        action: 'continue',\n",
              "      }\n",
              "    };\n",
              "\n",
              "    // Use a chunked sending to avoid message size limits. See b/62115660.\n",
              "    let position = 0;\n",
              "    do {\n",
              "      const length = Math.min(fileData.byteLength - position, MAX_PAYLOAD_SIZE);\n",
              "      const chunk = new Uint8Array(fileData, position, length);\n",
              "      position += length;\n",
              "\n",
              "      const base64 = btoa(String.fromCharCode.apply(null, chunk));\n",
              "      yield {\n",
              "        response: {\n",
              "          action: 'append',\n",
              "          file: file.name,\n",
              "          data: base64,\n",
              "        },\n",
              "      };\n",
              "\n",
              "      let percentDone = fileData.byteLength === 0 ?\n",
              "          100 :\n",
              "          Math.round((position / fileData.byteLength) * 100);\n",
              "      percent.textContent = `${percentDone}% done`;\n",
              "\n",
              "    } while (position < fileData.byteLength);\n",
              "  }\n",
              "\n",
              "  // All done.\n",
              "  yield {\n",
              "    response: {\n",
              "      action: 'complete',\n",
              "    }\n",
              "  };\n",
              "}\n",
              "\n",
              "scope.google = scope.google || {};\n",
              "scope.google.colab = scope.google.colab || {};\n",
              "scope.google.colab._files = {\n",
              "  _uploadFiles,\n",
              "  _uploadFilesContinue,\n",
              "};\n",
              "})(self);\n",
              "</script> "
            ]
          },
          "metadata": {}
        },
        {
          "output_type": "stream",
          "name": "stdout",
          "text": [
            "Saving assembly_offline_env.zip to assembly_offline_env.zip\n"
          ]
        }
      ]
    },
    {
      "cell_type": "code",
      "source": [
        "!unzip assembly_offline_env.zip"
      ],
      "metadata": {
        "collapsed": true,
        "colab": {
          "base_uri": "https://localhost:8080/"
        },
        "id": "aVW5nWzws_-I",
        "outputId": "6f4ff4af-b972-493d-eecb-a7a45ee52f3a"
      },
      "execution_count": null,
      "outputs": [
        {
          "output_type": "stream",
          "name": "stdout",
          "text": [
            "Archive:  assembly_offline_env.zip\n",
            "   creating: game/\n",
            "  inflating: game/__init__.py        \n",
            "   creating: game/__pycache__/\n",
            "  inflating: game/__pycache__/computer_assembly_game_v1.cpython-311.pyc  \n",
            "  inflating: game/__pycache__/__init__.cpython-38.pyc  \n",
            "  inflating: game/__pycache__/__init__.cpython-39.pyc  \n",
            "  inflating: game/__pycache__/computer_assembly_game.cpython-38.pyc  \n",
            "  inflating: game/__pycache__/computer_assembly_game_v1.cpython-38.pyc  \n",
            "  inflating: game/__pycache__/computer_assembly_game_v1.cpython-39.pyc  \n",
            "  inflating: game/__pycache__/computer_assembly_game_v2.cpython-311.pyc  \n",
            "  inflating: game/__pycache__/computer_assembly_game_v2.cpython-38.pyc  \n",
            "  inflating: game/__pycache__/computer_assembly_game_v2.cpython-39.pyc  \n",
            "  inflating: game/__pycache__/computer_assembly_game_v4.cpython-311.pyc  \n",
            "  inflating: game/__pycache__/computer_assembly_game_v3_1.cpython-311.pyc  \n",
            "  inflating: game/__pycache__/__init__.cpython-311.pyc  \n",
            "  inflating: game/__pycache__/computer_assembly_game_v3.cpython-311.pyc  \n",
            "  inflating: game/__pycache__/computer_assembly_game_v5.cpython-311.pyc  \n",
            "  inflating: game/__pycache__/computer_assembly_game.cpython-311.pyc  \n",
            "  inflating: game/__pycache__/computer_assembly_game_v7.cpython-311.pyc  \n",
            "  inflating: game/__pycache__/computer_assembly_game_v6.cpython-311.pyc  \n",
            "  inflating: game/__pycache__/computer_assembly_game_v8.cpython-311.pyc  \n",
            "  inflating: game/computer_assembly_game.py  \n",
            "  inflating: game/computer_assembly_game_v1.py  \n",
            "  inflating: game/computer_assembly_game_v2.py  \n",
            "   creating: game/data/\n",
            "  inflating: game/data/action_log.txt  \n",
            "  inflating: game/data/log.txt       \n",
            "  inflating: game/data/state_log.txt  \n",
            "   creating: game/image/\n",
            "  inflating: game/image/background.png  \n",
            "  inflating: game/image/case.png     \n",
            "  inflating: game/image/cooler.png   \n",
            "  inflating: game/image/cover.png    \n",
            "  inflating: game/image/cpu.png      \n",
            "  inflating: game/image/gpu.png      \n",
            "  inflating: game/image/hand.png     \n",
            "  inflating: game/image/hard_disk.png  \n",
            "  inflating: game/image/memory_card.png  \n",
            "  inflating: game/image/motherboard.png  \n",
            "  inflating: game/image/power_supply.png  \n",
            "  inflating: game/image/robot.png    \n",
            "  inflating: game/computer_assembly_game_v3_1.py  \n",
            "  inflating: game/computer_assembly_game_v3.py  \n",
            "  inflating: game/computer_assembly_game_v4.py  \n",
            "  inflating: game/computer_assembly_game_v5.py  \n",
            "  inflating: game/computer_assembly_game_v7.py  \n",
            "  inflating: game/computer_assembly_game_v6.py  \n",
            "  inflating: game/computer_assembly_game_v8.py  \n",
            "   creating: game/image2/\n",
            "  inflating: game/image2/background.png  \n",
            "  inflating: game/image2/case.png    \n",
            "  inflating: game/image2/cooler.png  \n",
            "  inflating: game/image2/cover.png   \n",
            "  inflating: game/image2/cpu.png     \n",
            "  inflating: game/image2/gpu.png     \n",
            "  inflating: game/image2/hard_disk.png  \n",
            "  inflating: game/image2/memory_card.png  \n",
            "  inflating: game/image2/motherboard.png  \n",
            "  inflating: game/image2/power_supply.png  \n",
            "   creating: gym_env/\n",
            "  inflating: gym_env/__init__.py     \n",
            "   creating: gym_env/__pycache__/\n",
            "  inflating: gym_env/__pycache__/ma_computer_assembly_env_AEC_v7.cpython-311.pyc  \n",
            "  inflating: gym_env/__pycache__/ma_computer_assembly_env_AEC_v6.cpython-311.pyc  \n",
            "  inflating: gym_env/__pycache__/__init__.cpython-38.pyc  \n",
            "  inflating: gym_env/__pycache__/__init__.cpython-39.pyc  \n",
            "  inflating: gym_env/__pycache__/computer_assembly_env.cpython-38.pyc  \n",
            "  inflating: gym_env/__pycache__/computer_assembly_env_v1.cpython-38.pyc  \n",
            "  inflating: gym_env/__pycache__/computer_assembly_env_v1.cpython-39.pyc  \n",
            "  inflating: gym_env/__pycache__/ma_computer_assembly_env_v2.cpython-38.pyc  \n",
            "  inflating: gym_env/__pycache__/ma_computer_assembly_env_v3.cpython-311.pyc  \n",
            "  inflating: gym_env/__pycache__/ma_computer_assembly_env_v3.cpython-38.pyc  \n",
            "  inflating: gym_env/__pycache__/ma_computer_assembly_env_v3.cpython-39.pyc  \n",
            "  inflating: gym_env/__pycache__/ma_computer_assembly_env_v4.cpython-39.pyc  \n",
            "  inflating: gym_env/__pycache__/computer_assembly_env_v13.cpython-311.pyc  \n",
            "  inflating: gym_env/__pycache__/ma_computer_assembly_env_AEC_v13_act.cpython-311.pyc  \n",
            "  inflating: gym_env/__pycache__/ma_computer_assembly_env_v4.cpython-311.pyc  \n",
            "  inflating: gym_env/__pycache__/__init__.cpython-311.pyc  \n",
            "  inflating: gym_env/__pycache__/ma_computer_assembly_env_AEC_v5.cpython-311.pyc  \n",
            "  inflating: gym_env/__pycache__/ma_computer_assembly_env_AEC_v6_1.cpython-311.pyc  \n",
            "  inflating: gym_env/__pycache__/ma_computer_assembly_env_AEC_v7_1.cpython-311.pyc  \n",
            "  inflating: gym_env/__pycache__/ma_computer_assembly_env_AEC_v8.cpython-311.pyc  \n",
            "  inflating: gym_env/__pycache__/computer_assembly_env.cpython-311.pyc  \n",
            "  inflating: gym_env/__pycache__/computer_assembly_env_v9.cpython-311.pyc  \n",
            "  inflating: gym_env/__pycache__/ma_computer_assembly_env_AEC_v10.cpython-311.pyc  \n",
            "  inflating: gym_env/__pycache__/computer_assembly_env_v11.cpython-311.pyc  \n",
            "  inflating: gym_env/__pycache__/computer_assembly_env_v11_2.cpython-311.pyc  \n",
            "  inflating: gym_env/__pycache__/computer_assembly_env_v12.cpython-311.pyc  \n",
            "  inflating: gym_env/__pycache__/ma_computer_assembly_env_AEC_v12_act.cpython-311.pyc  \n",
            "  inflating: gym_env/computer_assembly_env.py  \n",
            "  inflating: gym_env/computer_assembly_env_v1.py  \n",
            "  inflating: gym_env/ma_computer_assembly_env_AEC_v5.py  \n",
            "  inflating: gym_env/ma_computer_assembly_env_v2.py  \n",
            "  inflating: gym_env/ma_computer_assembly_env_v3.py  \n",
            "  inflating: gym_env/ma_computer_assembly_env_v4.py  \n",
            "  inflating: gym_env/ma_computer_assembly_env_AEC_v6_1.py  \n",
            "  inflating: gym_env/ma_computer_assembly_env_AEC_v6.py  \n",
            "  inflating: gym_env/ma_computer_assembly_env_AEC_v7.py  \n",
            "  inflating: gym_env/ma_computer_assembly_env_AEC_v7_1.py  \n",
            "  inflating: gym_env/ma_computer_assembly_env_AEC_v10.py  \n",
            "  inflating: gym_env/ma_computer_assembly_env_AEC_v8.py  \n",
            "  inflating: gym_env/computer_assembly_env_v9.py  \n",
            "  inflating: gym_env/computer_assembly_env_v11.py  \n",
            "  inflating: gym_env/ma_computer_assembly_env_AEC_v11_act.py  \n",
            "  inflating: gym_env/computer_assembly_env_v11_2.py  \n",
            "  inflating: gym_env/computer_assembly_env_v12.py  \n",
            "  inflating: gym_env/ma_computer_assembly_env_AEC_v12_act.py  \n",
            "  inflating: gym_env/ma_computer_assembly_env_AEC_v13_act.py  \n",
            "  inflating: gym_env/computer_assembly_env_v13.py  \n"
          ]
        }
      ]
    },
    {
      "cell_type": "code",
      "source": [
        "import sys\n",
        "sys.path.append(\"/content/gym_env\")\n",
        "import computer_assembly_env_v13  # Ensure this matches the path to your Gym environment\n",
        "import gymnasium as gym\n",
        "env = gym.make('ComputerAssemblyEnv-v13')\n",
        "observation_shape = env.observation_space.shape or env.observation_space.n,\n",
        "action_shape = env.action_space.n\n",
        "\n"
      ],
      "metadata": {
        "colab": {
          "base_uri": "https://localhost:8080/"
        },
        "id": "Z1KsES8evfAu",
        "outputId": "ec91113a-ecd3-4229-a34e-b5480e64fa54"
      },
      "execution_count": null,
      "outputs": [
        {
          "output_type": "stream",
          "name": "stderr",
          "text": [
            "/usr/local/lib/python3.10/dist-packages/gymnasium/envs/registration.py:485: UserWarning: \u001b[33mWARN: The environment creator metadata doesn't include `render_modes`, contains: ['render.modes']\u001b[0m\n",
            "  logger.warn(\n"
          ]
        },
        {
          "output_type": "execute_result",
          "data": {
            "text/plain": [
              "(array([1, 1, 1, 1, 1, 1, 1, 1], dtype=int32), {})"
            ]
          },
          "metadata": {},
          "execution_count": 12
        }
      ]
    },
    {
      "cell_type": "code",
      "source": [
        "import h5py\n",
        "import numpy as np\n",
        "\n",
        "# 假设文件名叫 \"my_data.hdf5\"\n",
        "with h5py.File(\"/content/data_10_epo.hdf5\", \"r\") as f:\n",
        "    observations = f[\"obs\"][:]  # shape: (T, obs_dim)\n",
        "    actions = f[\"act\"][:]            # shape: (T, act_dim) 或 (T,) (离散动作)\n",
        "    rewards = f[\"rew\"][:]            # shape: (T,)\n",
        "    terminals = f[\"terminated\"][:]        # shape: (T,)"
      ],
      "metadata": {
        "colab": {
          "base_uri": "https://localhost:8080/",
          "height": 649
        },
        "id": "7H0Xh55nyxvM",
        "outputId": "2f7da2f1-027a-4b7c-9814-eb85734a4aa6"
      },
      "execution_count": null,
      "outputs": [
        {
          "output_type": "error",
          "ename": "KeyError",
          "evalue": "\"Unable to synchronously open object (object 'obs' doesn't exist)\"",
          "traceback": [
            "\u001b[0;31m---------------------------------------------------------------------------\u001b[0m",
            "\u001b[0;31mKeyError\u001b[0m                                  Traceback (most recent call last)",
            "\u001b[0;32m<ipython-input-15-a742534ed1b1>\u001b[0m in \u001b[0;36m<cell line: 5>\u001b[0;34m()\u001b[0m\n\u001b[1;32m      4\u001b[0m \u001b[0;31m# 假设文件名叫 \"my_data.hdf5\"\u001b[0m\u001b[0;34m\u001b[0m\u001b[0;34m\u001b[0m\u001b[0m\n\u001b[1;32m      5\u001b[0m \u001b[0;32mwith\u001b[0m \u001b[0mh5py\u001b[0m\u001b[0;34m.\u001b[0m\u001b[0mFile\u001b[0m\u001b[0;34m(\u001b[0m\u001b[0;34m\"/content/data_10_epo.hdf5\"\u001b[0m\u001b[0;34m,\u001b[0m \u001b[0;34m\"r\"\u001b[0m\u001b[0;34m)\u001b[0m \u001b[0;32mas\u001b[0m \u001b[0mf\u001b[0m\u001b[0;34m:\u001b[0m\u001b[0;34m\u001b[0m\u001b[0;34m\u001b[0m\u001b[0m\n\u001b[0;32m----> 6\u001b[0;31m     \u001b[0mobservations\u001b[0m \u001b[0;34m=\u001b[0m \u001b[0mf\u001b[0m\u001b[0;34m[\u001b[0m\u001b[0;34m\"obs\"\u001b[0m\u001b[0;34m]\u001b[0m\u001b[0;34m[\u001b[0m\u001b[0;34m:\u001b[0m\u001b[0;34m]\u001b[0m  \u001b[0;31m# shape: (T, obs_dim)\u001b[0m\u001b[0;34m\u001b[0m\u001b[0;34m\u001b[0m\u001b[0m\n\u001b[0m\u001b[1;32m      7\u001b[0m     \u001b[0mactions\u001b[0m \u001b[0;34m=\u001b[0m \u001b[0mf\u001b[0m\u001b[0;34m[\u001b[0m\u001b[0;34m\"act\"\u001b[0m\u001b[0;34m]\u001b[0m\u001b[0;34m[\u001b[0m\u001b[0;34m:\u001b[0m\u001b[0;34m]\u001b[0m            \u001b[0;31m# shape: (T, act_dim) 或 (T,) (离散动作)\u001b[0m\u001b[0;34m\u001b[0m\u001b[0;34m\u001b[0m\u001b[0m\n\u001b[1;32m      8\u001b[0m     \u001b[0mrewards\u001b[0m \u001b[0;34m=\u001b[0m \u001b[0mf\u001b[0m\u001b[0;34m[\u001b[0m\u001b[0;34m\"rew\"\u001b[0m\u001b[0;34m]\u001b[0m\u001b[0;34m[\u001b[0m\u001b[0;34m:\u001b[0m\u001b[0;34m]\u001b[0m            \u001b[0;31m# shape: (T,)\u001b[0m\u001b[0;34m\u001b[0m\u001b[0;34m\u001b[0m\u001b[0m\n",
            "\u001b[0;32mh5py/_objects.pyx\u001b[0m in \u001b[0;36mh5py._objects.with_phil.wrapper\u001b[0;34m()\u001b[0m\n",
            "\u001b[0;32mh5py/_objects.pyx\u001b[0m in \u001b[0;36mh5py._objects.with_phil.wrapper\u001b[0;34m()\u001b[0m\n",
            "\u001b[0;32m/usr/local/lib/python3.10/dist-packages/h5py/_hl/group.py\u001b[0m in \u001b[0;36m__getitem__\u001b[0;34m(self, name)\u001b[0m\n\u001b[1;32m    355\u001b[0m                 \u001b[0;32mraise\u001b[0m \u001b[0mValueError\u001b[0m\u001b[0;34m(\u001b[0m\u001b[0;34m\"Invalid HDF5 object reference\"\u001b[0m\u001b[0;34m)\u001b[0m\u001b[0;34m\u001b[0m\u001b[0;34m\u001b[0m\u001b[0m\n\u001b[1;32m    356\u001b[0m         \u001b[0;32melif\u001b[0m \u001b[0misinstance\u001b[0m\u001b[0;34m(\u001b[0m\u001b[0mname\u001b[0m\u001b[0;34m,\u001b[0m \u001b[0;34m(\u001b[0m\u001b[0mbytes\u001b[0m\u001b[0;34m,\u001b[0m \u001b[0mstr\u001b[0m\u001b[0;34m)\u001b[0m\u001b[0;34m)\u001b[0m\u001b[0;34m:\u001b[0m\u001b[0;34m\u001b[0m\u001b[0;34m\u001b[0m\u001b[0m\n\u001b[0;32m--> 357\u001b[0;31m             \u001b[0moid\u001b[0m \u001b[0;34m=\u001b[0m \u001b[0mh5o\u001b[0m\u001b[0;34m.\u001b[0m\u001b[0mopen\u001b[0m\u001b[0;34m(\u001b[0m\u001b[0mself\u001b[0m\u001b[0;34m.\u001b[0m\u001b[0mid\u001b[0m\u001b[0;34m,\u001b[0m \u001b[0mself\u001b[0m\u001b[0;34m.\u001b[0m\u001b[0m_e\u001b[0m\u001b[0;34m(\u001b[0m\u001b[0mname\u001b[0m\u001b[0;34m)\u001b[0m\u001b[0;34m,\u001b[0m \u001b[0mlapl\u001b[0m\u001b[0;34m=\u001b[0m\u001b[0mself\u001b[0m\u001b[0;34m.\u001b[0m\u001b[0m_lapl\u001b[0m\u001b[0;34m)\u001b[0m\u001b[0;34m\u001b[0m\u001b[0;34m\u001b[0m\u001b[0m\n\u001b[0m\u001b[1;32m    358\u001b[0m         \u001b[0;32melse\u001b[0m\u001b[0;34m:\u001b[0m\u001b[0;34m\u001b[0m\u001b[0;34m\u001b[0m\u001b[0m\n\u001b[1;32m    359\u001b[0m             raise TypeError(\"Accessing a group is done with bytes or str, \"\n",
            "\u001b[0;32mh5py/_objects.pyx\u001b[0m in \u001b[0;36mh5py._objects.with_phil.wrapper\u001b[0;34m()\u001b[0m\n",
            "\u001b[0;32mh5py/_objects.pyx\u001b[0m in \u001b[0;36mh5py._objects.with_phil.wrapper\u001b[0;34m()\u001b[0m\n",
            "\u001b[0;32mh5py/h5o.pyx\u001b[0m in \u001b[0;36mh5py.h5o.open\u001b[0;34m()\u001b[0m\n",
            "\u001b[0;31mKeyError\u001b[0m: \"Unable to synchronously open object (object 'obs' doesn't exist)\""
          ]
        }
      ]
    },
    {
      "cell_type": "code",
      "source": [],
      "metadata": {
        "id": "LQ6-mdh2tM-_"
      },
      "execution_count": null,
      "outputs": []
    },
    {
      "cell_type": "code",
      "execution_count": null,
      "metadata": {
        "id": "tZZSZ03fq3W7"
      },
      "outputs": [],
      "source": [
        "import d3rlpy\n",
        "\n",
        "# get CartPole dataset\n",
        "dataset, env = d3rlpy.datasets.get_cartpole()"
      ]
    },
    {
      "cell_type": "markdown",
      "metadata": {
        "id": "zNNbKuEuq3W7"
      },
      "source": [
        "Setup data-driven deep reinforcement learning algorithm."
      ]
    },
    {
      "cell_type": "code",
      "execution_count": null,
      "metadata": {
        "id": "3ZXxd5-gq3W7"
      },
      "outputs": [],
      "source": [
        "# setup CQL algorithm\n",
        "cql = d3rlpy.algos.DiscreteCQLConfig().create(device='cuda:0')\n",
        "\n",
        "# start training\n",
        "cql.fit(\n",
        "    dataset,\n",
        "    n_steps=10000,\n",
        "    n_steps_per_epoch=1000,\n",
        "    evaluators={\n",
        "        'environment': d3rlpy.metrics.EnvironmentEvaluator(env), # evaluate with CartPole-v1 environment\n",
        "    },\n",
        ")"
      ]
    },
    {
      "cell_type": "markdown",
      "metadata": {
        "id": "GubUuwSUq3W8"
      },
      "source": [
        "Record video!"
      ]
    },
    {
      "cell_type": "code",
      "execution_count": null,
      "metadata": {
        "id": "gcPm_mRnq3W8"
      },
      "outputs": [],
      "source": [
        "import gym\n",
        "from gym.wrappers import RecordVideo\n",
        "\n",
        "# start virtual display\n",
        "d3rlpy.notebook_utils.start_virtual_display()\n",
        "\n",
        "# wrap RecordVideo wrapper\n",
        "env = RecordVideo(gym.make(\"CartPole-v1\", render_mode=\"rgb_array\"), './video')\n",
        "\n",
        "# evaluate\n",
        "d3rlpy.metrics.evaluate_qlearning_with_environment(cql, env)"
      ]
    },
    {
      "cell_type": "markdown",
      "metadata": {
        "id": "qt1Ud-HFq3W8"
      },
      "source": [
        "Let's see how it works!"
      ]
    },
    {
      "cell_type": "code",
      "execution_count": null,
      "metadata": {
        "id": "LKZnAFdmq3W8"
      },
      "outputs": [],
      "source": [
        "d3rlpy.notebook_utils.render_video(\"video/rl-video-episode-0.mp4\")"
      ]
    }
  ],
  "metadata": {
    "kernelspec": {
      "display_name": "Python 3",
      "language": "python",
      "name": "python3"
    },
    "language_info": {
      "codemirror_mode": {
        "name": "ipython",
        "version": 3
      },
      "file_extension": ".py",
      "mimetype": "text/x-python",
      "name": "python",
      "nbconvert_exporter": "python",
      "pygments_lexer": "ipython3",
      "version": "3.7.7"
    },
    "colab": {
      "provenance": [],
      "gpuType": "T4",
      "include_colab_link": true
    },
    "accelerator": "GPU"
  },
  "nbformat": 4,
  "nbformat_minor": 0
}